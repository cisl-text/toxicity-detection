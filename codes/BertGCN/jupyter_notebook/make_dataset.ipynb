{
 "cells": [
  {
   "cell_type": "code",
   "execution_count": 6,
   "metadata": {
    "collapsed": true,
    "pycharm": {
     "name": "#%%\n"
    }
   },
   "outputs": [
    {
     "name": "stdout",
     "output_type": "stream",
     "text": [
      "length:7100,1089,13291\n"
     ]
    }
   ],
   "source": [
    "import pandas as pd\n",
    "from os.path import join\n",
    "ori_dir = r'G:\\Toxicity\\dataset\\ImplicitHateClean'\n",
    "tar_dir = r'./'\n",
    "def load_data(file_name, mode):\n",
    "    res_data = []\n",
    "    extension=file_name.split(\".\")[-1]\n",
    "    if extension == \"txt\":\n",
    "        with open(file_name, 'r', encoding=\"utf-8\") as f:\n",
    "            for line in f.readlines():\n",
    "                # todo: 需要处理文本\n",
    "                text = line.strip()\n",
    "                if mode == 'none':\n",
    "                    # (text, toxic, implicit)\n",
    "                    res_data.append([text, \"non-toxic\"])\n",
    "                elif mode == \"implicit\":\n",
    "                    res_data.append([text, \"toxic\"])\n",
    "                else:  # explicit\n",
    "                    res_data.append([text, \"toxic\"])\n",
    "    return res_data\n",
    "im = load_data(join(ori_dir, \"implicit.txt\"), mode=\"implicit\")\n",
    "ex = load_data(join(ori_dir, \"explicit.txt\"), mode=\"explicit\")\n",
    "non = load_data(join(ori_dir, \"non_toxic.txt\"), mode=\"none\")\n",
    "print(f\"length:{len(im)},{len(ex)},{len(non)}\")"
   ]
  },
  {
   "cell_type": "code",
   "execution_count": 7,
   "outputs": [
    {
     "name": "stdout",
     "output_type": "stream",
     "text": [
      "17183 4297\n"
     ]
    },
    {
     "data": {
      "text/plain": "('jewish harvard professor noel ignatiev wants to abolish the white race via #wr',\n 'train',\n 'toxic')"
     },
     "execution_count": 7,
     "metadata": {},
     "output_type": "execute_result"
    }
   ],
   "source": [
    "split_ratio = 0.8\n",
    "def split_data(l, ratio):\n",
    "    split_point = int(len(l) * ratio)\n",
    "    return l[:split_point], l[split_point:]\n",
    "import re\n",
    "def remove_prefix(text):\n",
    "    text = re.sub('\"|/','', text)\n",
    "    text = re.sub('[ ]+',' ', text)\n",
    "    # ‘#’需不需要去除\n",
    "    text = text.strip()\n",
    "    text = re.sub('^[ ]*(rt)*[ ]*(:)*[ ]*','', text)\n",
    "    text = re.sub('^[ ]*(:)*[ ]*','', text)\n",
    "    return text\n",
    "train_implicit_data, test_implicit_data = split_data(im, split_ratio)\n",
    "train_explicit_data, test_explicit_data = split_data(ex, split_ratio)\n",
    "train_non_data, test_non_data = split_data(non, split_ratio)\n",
    "\n",
    "train_data = train_implicit_data + train_explicit_data + train_non_data\n",
    "test_data = test_implicit_data + test_explicit_data + test_non_data\n",
    "\n",
    "train_data = [(text, 'train',label) for text, label in train_data]\n",
    "test_data = [(text, 'test', label) for text, label in test_data]\n",
    "print(len(train_data), len(test_data))\n",
    "train_data[0]"
   ],
   "metadata": {
    "collapsed": false,
    "pycharm": {
     "name": "#%%\n"
    }
   }
  },
  {
   "cell_type": "code",
   "execution_count": 10,
   "outputs": [],
   "source": [
    "all_data = train_data + test_data\n",
    "def to_txt(data):\n",
    "    with open(join(tar_dir, \"implicit.txt\"), 'w', encoding='utf-8') as f_idx:\n",
    "        with open(join(tar_dir, \"implicit.clean.txt\"), 'w', encoding='utf-8') as f:\n",
    "            for i, t in enumerate(data):\n",
    "                text, stage, label = t\n",
    "                f.write(text + '\\n')\n",
    "                f_idx.write('\\t'.join([str(i), stage, label]) + '\\n')\n",
    "to_txt(all_data)"
   ],
   "metadata": {
    "collapsed": false,
    "pycharm": {
     "name": "#%%\n"
    }
   }
  },
  {
   "cell_type": "code",
   "execution_count": null,
   "outputs": [],
   "source": [],
   "metadata": {
    "collapsed": false,
    "pycharm": {
     "name": "#%%\n"
    }
   }
  }
 ],
 "metadata": {
  "kernelspec": {
   "display_name": "Python 3",
   "language": "python",
   "name": "python3"
  },
  "language_info": {
   "codemirror_mode": {
    "name": "ipython",
    "version": 2
   },
   "file_extension": ".py",
   "mimetype": "text/x-python",
   "name": "python",
   "nbconvert_exporter": "python",
   "pygments_lexer": "ipython2",
   "version": "2.7.6"
  }
 },
 "nbformat": 4,
 "nbformat_minor": 0
}